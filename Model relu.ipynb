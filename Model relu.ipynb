{
 "cells": [
  {
   "cell_type": "code",
   "execution_count": 1,
   "metadata": {},
   "outputs": [
    {
     "name": "stderr",
     "output_type": "stream",
     "text": [
      "c:\\Users\\PC\\AppData\\Local\\Programs\\Python\\Python310\\lib\\site-packages\\tqdm\\auto.py:22: TqdmWarning: IProgress not found. Please update jupyter and ipywidgets. See https://ipywidgets.readthedocs.io/en/stable/user_install.html\n",
      "  from .autonotebook import tqdm as notebook_tqdm\n"
     ]
    }
   ],
   "source": [
    "import torch\n",
    "import torch.nn as nn\n",
    "import torch\n",
    "import torch.optim as optim\n",
    "\n",
    "from torchvision import datasets, transforms\n",
    "from torch.utils.data import DataLoader\n",
    "\n",
    "#Progress bar\n",
    "from tqdm import tqdm\n",
    "\n",
    "\n",
    "#For reading CSV and for math\n",
    "import numpy as np\n",
    "import pandas as pd\n",
    "\n",
    "#Visualize some datasets\n",
    "import matplotlib.pyplot as plt\n",
    "\n",
    "#Check our work directory\n",
    "import os\n",
    "import shutil\n"
   ]
  },
  {
   "cell_type": "code",
   "execution_count": 2,
   "metadata": {},
   "outputs": [],
   "source": [
    "photo_folder_path = r'train\\train'\n",
    "csv_file_path = r'train.csv'"
   ]
  },
  {
   "cell_type": "code",
   "execution_count": 3,
   "metadata": {},
   "outputs": [],
   "source": [
    "df = pd.read_csv(csv_file_path)"
   ]
  },
  {
   "cell_type": "code",
   "execution_count": 4,
   "metadata": {},
   "outputs": [
    {
     "name": "stdout",
     "output_type": "stream",
     "text": [
      "blur images: 1297\n",
      "sharp images: 1367\n"
     ]
    }
   ],
   "source": [
    "train_blur = df[df[\"blur\"]==1]\n",
    "train_sharp = df[df[\"blur\"]==0]\n",
    "\n",
    "print(\"blur images:\", len(train_blur))\n",
    "print(\"sharp images:\", len(train_sharp))"
   ]
  },
  {
   "cell_type": "code",
   "execution_count": 5,
   "metadata": {},
   "outputs": [],
   "source": [
    "train_val_split = 0.8  # 80% of the photos will be used for training, the rest will be used for validation"
   ]
  },
  {
   "cell_type": "code",
   "execution_count": 6,
   "metadata": {},
   "outputs": [],
   "source": [
    "dataset_folder_path = r\"Dataset\""
   ]
  },
  {
   "cell_type": "code",
   "execution_count": 7,
   "metadata": {},
   "outputs": [],
   "source": [
    "import random\n",
    "\n",
    "if not os.path.exists(dataset_folder_path):\n",
    "\n",
    "    if not os.path.exists(os.path.join(dataset_folder_path, 'train', 'blur')):\n",
    "        os.makedirs(os.path.join(dataset_folder_path, 'train', 'blur'))\n",
    "    if not os.path.exists(os.path.join(dataset_folder_path, 'train', 'not_blur')):\n",
    "        os.makedirs(os.path.join(dataset_folder_path, 'train', 'not_blur'))\n",
    "    if not os.path.exists(os.path.join(dataset_folder_path, 'valid', 'blur')):\n",
    "        os.makedirs(os.path.join(dataset_folder_path, 'valid', 'blur'))\n",
    "    if not os.path.exists(os.path.join(dataset_folder_path, 'valid', 'not_blur')):\n",
    "        os.makedirs(os.path.join(dataset_folder_path, 'valid', 'not_blur'))\n",
    "\n",
    "    for _, row in df.iterrows():\n",
    "        filename = row['filename']\n",
    "        blur = row['blur']\n",
    "        file_path = os.path.join(photo_folder_path, filename)\n",
    "        if blur:\n",
    "            # copy the file to the \"train\" folder 80% of the time and to the \"valid\" folder 20% of the time\n",
    "            if random.random() < train_val_split:\n",
    "                shutil.copy(file_path, os.path.join(dataset_folder_path, 'train', \"blur\"))\n",
    "            else:\n",
    "                shutil.copy(file_path, os.path.join(dataset_folder_path, 'valid', \"blur\"))\n",
    "        else:\n",
    "            # copy the file to the \"train\" folder 80% of the time and to the \"valid\" folder 20% of the time\n",
    "            if random.random() < train_val_split:\n",
    "                shutil.copy(file_path, os.path.join(dataset_folder_path, 'train', \"not_blur\"))\n",
    "            else:\n",
    "                shutil.copy(file_path, os.path.join(dataset_folder_path, 'valid', \"not_blur\"))\n"
   ]
  },
  {
   "cell_type": "code",
   "execution_count": 8,
   "metadata": {},
   "outputs": [],
   "source": [
    "LR = 0.001\n",
    "BATCH_SIZE = 4\n",
    "EPOCHS = 15"
   ]
  },
  {
   "cell_type": "code",
   "execution_count": 9,
   "metadata": {},
   "outputs": [],
   "source": [
    "transform = transforms.Compose(\n",
    "    [transforms.ToTensor(),\n",
    "     transforms.Normalize((0.5, 0.5, 0.5), (0.5, 0.5, 0.5))]\n",
    ")"
   ]
  },
  {
   "cell_type": "code",
   "execution_count": 10,
   "metadata": {},
   "outputs": [],
   "source": [
    "train_dir = 'Dataset/train'\n",
    "val_dir = 'Dataset/valid'"
   ]
  },
  {
   "cell_type": "code",
   "execution_count": 11,
   "metadata": {},
   "outputs": [],
   "source": [
    "train_folder = datasets.ImageFolder(root=train_dir, transform=transform)\n",
    "val_folder = datasets.ImageFolder(root=val_dir,transform=transform)"
   ]
  },
  {
   "cell_type": "code",
   "execution_count": 12,
   "metadata": {},
   "outputs": [
    {
     "data": {
      "text/plain": [
       "['blur', 'not_blur']"
      ]
     },
     "execution_count": 12,
     "metadata": {},
     "output_type": "execute_result"
    }
   ],
   "source": [
    "train_folder.classes"
   ]
  },
  {
   "cell_type": "code",
   "execution_count": 13,
   "metadata": {},
   "outputs": [],
   "source": [
    "train_loader = DataLoader(train_folder,\n",
    "                          batch_size=BATCH_SIZE,\n",
    "                          shuffle=True)\n",
    "val_loader = DataLoader(val_folder,\n",
    "                          batch_size=BATCH_SIZE,\n",
    "                          shuffle=True)"
   ]
  },
  {
   "cell_type": "code",
   "execution_count": 14,
   "metadata": {},
   "outputs": [],
   "source": [
    "class Net(nn.Module):\n",
    "    def __init__(self):\n",
    "        super(Net,self).__init__()\n",
    "        # input [3, 640, 640]\n",
    "        self.cnn = nn.Sequential(\n",
    "            nn.Conv2d(in_channels = 3, out_channels = 64, kernel_size = 3, stride = 1, padding = 1),  # [64, 640, 640]\n",
    "            nn.BatchNorm2d(64),\n",
    "            nn.ReLU(),\n",
    "            nn.MaxPool2d(kernel_size = 2, stride = 2, padding = 0),      # [64, 320, 320]\n",
    "\n",
    "            nn.Conv2d(in_channels = 64, out_channels = 128, kernel_size = 3, stride = 1, padding = 1), # [128, 320, 320]\n",
    "            nn.BatchNorm2d(128),\n",
    "            nn.ReLU(),\n",
    "            nn.MaxPool2d(kernel_size = 2, stride = 2, padding = 0),      # [128, 160, 160]\n",
    "\n",
    "            nn.Conv2d(in_channels = 128, out_channels = 256, kernel_size = 3, stride = 1, padding = 1), # [256, 160, 160]\n",
    "            nn.BatchNorm2d(256),\n",
    "            nn.ReLU(),\n",
    "            nn.MaxPool2d(kernel_size = 2, stride = 2, padding = 0),      # [256, 80, 80]\n",
    "\n",
    "            nn.Conv2d(in_channels = 256, out_channels = 512, kernel_size = 3, stride = 1, padding = 1), # [512, 80, 80]\n",
    "            nn.BatchNorm2d(512),\n",
    "            nn.ReLU(),\n",
    "            nn.MaxPool2d(kernel_size = 2, stride = 2, padding = 0),       # [512, 40, 40]\n",
    "            \n",
    "            nn.Conv2d(in_channels = 512, out_channels = 512, kernel_size = 3, stride = 1, padding = 1), # [512, 40, 40]\n",
    "            nn.BatchNorm2d(512),\n",
    "            nn.ReLU(),\n",
    "            nn.MaxPool2d(kernel_size = 2, stride = 2, padding = 0),       # [512, 20, 20]\n",
    "        )\n",
    "        self.fc = nn.Sequential(\n",
    "            nn.Linear(in_features = 512*20*20, out_features = 1024),\n",
    "            nn.ReLU(),\n",
    "            nn.Linear(in_features = 1024, out_features = 512),\n",
    "            nn.ReLU(),\n",
    "            nn.Linear(in_features = 512, out_features = 128), \n",
    "            nn.ReLU(), \n",
    "            nn.Linear(in_features = 128, out_features = 2)\n",
    "        )\n",
    "\n",
    "    def forward(self, x):\n",
    "        out = self.cnn(x)\n",
    "        out = out.view(out.size()[0], -1)\n",
    "        return self.fc(out)\n",
    "net = Net()"
   ]
  },
  {
   "cell_type": "code",
   "execution_count": 15,
   "metadata": {},
   "outputs": [
    {
     "name": "stdout",
     "output_type": "stream",
     "text": [
      "torch.Size([64, 3, 3, 3])\n",
      "torch.Size([64])\n",
      "torch.Size([64])\n",
      "torch.Size([64])\n",
      "torch.Size([128, 64, 3, 3])\n",
      "torch.Size([128])\n",
      "torch.Size([128])\n",
      "torch.Size([128])\n",
      "torch.Size([256, 128, 3, 3])\n",
      "torch.Size([256])\n",
      "torch.Size([256])\n",
      "torch.Size([256])\n",
      "torch.Size([512, 256, 3, 3])\n",
      "torch.Size([512])\n",
      "torch.Size([512])\n",
      "torch.Size([512])\n",
      "torch.Size([512, 512, 3, 3])\n",
      "torch.Size([512])\n",
      "torch.Size([512])\n",
      "torch.Size([512])\n",
      "torch.Size([1024, 204800])\n",
      "torch.Size([1024])\n",
      "torch.Size([512, 1024])\n",
      "torch.Size([512])\n",
      "torch.Size([128, 512])\n",
      "torch.Size([128])\n",
      "torch.Size([2, 128])\n",
      "torch.Size([2])\n"
     ]
    }
   ],
   "source": [
    "for p in net.parameters():\n",
    "    print(p.shape)"
   ]
  },
  {
   "cell_type": "code",
   "execution_count": 16,
   "metadata": {},
   "outputs": [
    {
     "name": "stdout",
     "output_type": "stream",
     "text": [
      "Using:  cuda\n"
     ]
    },
    {
     "data": {
      "text/plain": [
       "Net(\n",
       "  (cnn): Sequential(\n",
       "    (0): Conv2d(3, 64, kernel_size=(3, 3), stride=(1, 1), padding=(1, 1))\n",
       "    (1): BatchNorm2d(64, eps=1e-05, momentum=0.1, affine=True, track_running_stats=True)\n",
       "    (2): ReLU()\n",
       "    (3): MaxPool2d(kernel_size=2, stride=2, padding=0, dilation=1, ceil_mode=False)\n",
       "    (4): Conv2d(64, 128, kernel_size=(3, 3), stride=(1, 1), padding=(1, 1))\n",
       "    (5): BatchNorm2d(128, eps=1e-05, momentum=0.1, affine=True, track_running_stats=True)\n",
       "    (6): ReLU()\n",
       "    (7): MaxPool2d(kernel_size=2, stride=2, padding=0, dilation=1, ceil_mode=False)\n",
       "    (8): Conv2d(128, 256, kernel_size=(3, 3), stride=(1, 1), padding=(1, 1))\n",
       "    (9): BatchNorm2d(256, eps=1e-05, momentum=0.1, affine=True, track_running_stats=True)\n",
       "    (10): ReLU()\n",
       "    (11): MaxPool2d(kernel_size=2, stride=2, padding=0, dilation=1, ceil_mode=False)\n",
       "    (12): Conv2d(256, 512, kernel_size=(3, 3), stride=(1, 1), padding=(1, 1))\n",
       "    (13): BatchNorm2d(512, eps=1e-05, momentum=0.1, affine=True, track_running_stats=True)\n",
       "    (14): ReLU()\n",
       "    (15): MaxPool2d(kernel_size=2, stride=2, padding=0, dilation=1, ceil_mode=False)\n",
       "    (16): Conv2d(512, 512, kernel_size=(3, 3), stride=(1, 1), padding=(1, 1))\n",
       "    (17): BatchNorm2d(512, eps=1e-05, momentum=0.1, affine=True, track_running_stats=True)\n",
       "    (18): ReLU()\n",
       "    (19): MaxPool2d(kernel_size=2, stride=2, padding=0, dilation=1, ceil_mode=False)\n",
       "  )\n",
       "  (fc): Sequential(\n",
       "    (0): Linear(in_features=204800, out_features=1024, bias=True)\n",
       "    (1): ReLU()\n",
       "    (2): Linear(in_features=1024, out_features=512, bias=True)\n",
       "    (3): ReLU()\n",
       "    (4): Linear(in_features=512, out_features=128, bias=True)\n",
       "    (5): ReLU()\n",
       "    (6): Linear(in_features=128, out_features=2, bias=True)\n",
       "  )\n",
       ")"
      ]
     },
     "execution_count": 16,
     "metadata": {},
     "output_type": "execute_result"
    }
   ],
   "source": [
    "device = torch.device('cuda' if torch.cuda.is_available() else \"cpu\")\n",
    "print('Using: ',device)\n",
    "net.to(device)"
   ]
  },
  {
   "cell_type": "code",
   "execution_count": 17,
   "metadata": {},
   "outputs": [
    {
     "name": "stdout",
     "output_type": "stream",
     "text": [
      "total allocated memory on gpu (pytorch): 856899072\n"
     ]
    }
   ],
   "source": [
    "print(\"total allocated memory on gpu (pytorch):\", torch.cuda.memory.memory_allocated(device))"
   ]
  },
  {
   "cell_type": "code",
   "execution_count": 18,
   "metadata": {},
   "outputs": [],
   "source": [
    "# Cross Entropy Loss  \n",
    "error = nn.CrossEntropyLoss()\n",
    "\n",
    "#Adam optimizer\n",
    "optimizer = optim.Adam(net.parameters(), lr = LR)"
   ]
  },
  {
   "cell_type": "code",
   "execution_count": 19,
   "metadata": {},
   "outputs": [
    {
     "name": "stderr",
     "output_type": "stream",
     "text": [
      "Epoch 1 / 15: 100%|██████████| 541/541 [04:02<00:00,  2.23it/s, AUC_ROC=0.574, loss=1.11]\n",
      "Validation 1: 100%|██████████| 126/126 [00:16<00:00,  7.85it/s, AUC_ROC=0.738, loss=0.494]\n",
      "Epoch 2 / 15: 100%|██████████| 541/541 [03:47<00:00,  2.38it/s, AUC_ROC=0.815, loss=0.463]\n",
      "Validation 2: 100%|██████████| 126/126 [00:16<00:00,  7.50it/s, AUC_ROC=0.823, loss=0.498]\n",
      "Epoch 3 / 15: 100%|██████████| 541/541 [03:44<00:00,  2.41it/s, AUC_ROC=0.825, loss=0.434]\n",
      "Validation 3: 100%|██████████| 126/126 [00:16<00:00,  7.75it/s, AUC_ROC=0.843, loss=0.534]\n",
      "Epoch 4 / 15: 100%|██████████| 541/541 [03:44<00:00,  2.41it/s, AUC_ROC=0.88, loss=0.339] \n",
      "Validation 4: 100%|██████████| 126/126 [00:16<00:00,  7.69it/s, AUC_ROC=0.891, loss=0.304]\n",
      "Epoch 5 / 15: 100%|██████████| 541/541 [03:43<00:00,  2.42it/s, AUC_ROC=0.9, loss=0.289]  \n",
      "Validation 5: 100%|██████████| 126/126 [00:15<00:00,  7.93it/s, AUC_ROC=0.877, loss=0.299]\n",
      "Epoch 6 / 15: 100%|██████████| 541/541 [03:44<00:00,  2.41it/s, AUC_ROC=0.913, loss=0.251]\n",
      "Validation 6: 100%|██████████| 126/126 [00:16<00:00,  7.64it/s, AUC_ROC=0.8, loss=0.501]  \n",
      "Epoch 7 / 15: 100%|██████████| 541/541 [03:43<00:00,  2.42it/s, AUC_ROC=0.919, loss=0.238]\n",
      "Validation 7: 100%|██████████| 126/126 [00:16<00:00,  7.68it/s, AUC_ROC=0.913, loss=0.264]\n",
      "Epoch 8 / 15: 100%|██████████| 541/541 [03:42<00:00,  2.43it/s, AUC_ROC=0.926, loss=0.223]\n",
      "Validation 8: 100%|██████████| 126/126 [00:15<00:00,  7.92it/s, AUC_ROC=0.91, loss=0.251] \n",
      "Epoch 9 / 15: 100%|██████████| 541/541 [03:39<00:00,  2.46it/s, AUC_ROC=0.921, loss=0.234]\n",
      "Validation 9: 100%|██████████| 126/126 [00:16<00:00,  7.66it/s, AUC_ROC=0.921, loss=0.218]\n",
      "Epoch 10 / 15: 100%|██████████| 541/541 [03:37<00:00,  2.49it/s, AUC_ROC=0.935, loss=0.193]\n",
      "Validation 10: 100%|██████████| 126/126 [00:15<00:00,  8.14it/s, AUC_ROC=0.908, loss=0.235]\n",
      "Epoch 11 / 15: 100%|██████████| 541/541 [03:33<00:00,  2.54it/s, AUC_ROC=0.892, loss=0.31] \n",
      "Validation 11: 100%|██████████| 126/126 [00:15<00:00,  8.05it/s, AUC_ROC=0.81, loss=0.867] \n",
      "Epoch 12 / 15: 100%|██████████| 541/541 [03:33<00:00,  2.53it/s, AUC_ROC=0.911, loss=0.273]\n",
      "Validation 12: 100%|██████████| 126/126 [00:15<00:00,  8.05it/s, AUC_ROC=0.873, loss=0.279]\n",
      "Epoch 13 / 15: 100%|██████████| 541/541 [03:31<00:00,  2.56it/s, AUC_ROC=0.911, loss=0.298]\n",
      "Validation 13: 100%|██████████| 126/126 [00:15<00:00,  8.14it/s, AUC_ROC=0.93, loss=0.274] \n",
      "Epoch 14 / 15: 100%|██████████| 541/541 [03:31<00:00,  2.56it/s, AUC_ROC=0.949, loss=0.154]\n",
      "Validation 14: 100%|██████████| 126/126 [00:15<00:00,  8.15it/s, AUC_ROC=0.917, loss=0.214]\n",
      "Epoch 15 / 15: 100%|██████████| 541/541 [03:31<00:00,  2.56it/s, AUC_ROC=0.961, loss=0.126]\n",
      "Validation 15: 100%|██████████| 126/126 [00:15<00:00,  8.12it/s, AUC_ROC=0.923, loss=0.27] \n"
     ]
    }
   ],
   "source": [
    "from sklearn.metrics import roc_auc_score\n",
    "\n",
    "for epoch in range(EPOCHS):\n",
    "    train_metric = np.array([])\n",
    "    val_metric = np.array([])\n",
    "    train_loss = np.array([])\n",
    "    val_loss = np.array([])\n",
    "\n",
    "    loop = tqdm(train_loader, leave=True)\n",
    "    net.train()\n",
    "    for batch in loop:\n",
    "        optimizer.zero_grad()\n",
    "        inputs = batch[0].to(device)\n",
    "        labels = batch[1].to(device)\n",
    "        y_pred = net(inputs)\n",
    "\n",
    "        loss = error(y_pred,labels.long())\n",
    "        loss.backward()\n",
    "\n",
    "        loop.set_description(f\"Epoch {epoch+1} / {EPOCHS}\")\n",
    "        optimizer.step()\n",
    "        try:\n",
    "            auc = roc_auc_score(labels.cpu().numpy(), np.argmax(y_pred.cpu().data.numpy(), axis=1))     # use AUC-ROC metric if different class are represented\n",
    "            train_metric = np.append(train_metric, auc)\n",
    "        except:\n",
    "            train_metric = np.append(train_metric, np.sum(np.argmax(y_pred.cpu().data.numpy(),axis=1) == labels.cpu().numpy()) / BATCH_SIZE)        # else use Accuracy metric\n",
    "        train_loss = np.append(train_loss, loss.item())\n",
    "        loop.set_postfix(loss=np.mean(train_loss), AUC_ROC=np.mean(train_metric))\n",
    "    net.eval()\n",
    "    with torch.no_grad():\n",
    "        loop = tqdm(val_loader, leave=True)\n",
    "        for batch in loop:\n",
    "            inputs = batch[0].to(device)\n",
    "            labels = batch[1].to(device)\n",
    "            val_pred = net(inputs)\n",
    "\n",
    "            batch_loss = error(val_pred,labels.long())\n",
    "            \n",
    "            loop.set_description(f\"Validation {epoch+1}\")\n",
    "            try:\n",
    "                auc = roc_auc_score(labels.cpu().numpy(), np.argmax(val_pred.cpu().data.numpy(), axis=1))     # use AUC-ROC metric if different class are represented\n",
    "                val_metric = np.append(val_metric, auc)\n",
    "            except:\n",
    "                val_metric = np.append(val_metric, np.sum(np.argmax(val_pred.cpu().data.numpy(),axis=1) == labels.cpu().numpy()) / BATCH_SIZE)        # else use Accuracy metric\n",
    "            val_loss = np.append(val_loss, batch_loss.item())\n",
    "            loop.set_postfix(loss=np.mean(val_loss), AUC_ROC=np.mean(val_metric))"
   ]
  },
  {
   "cell_type": "code",
   "execution_count": 22,
   "metadata": {},
   "outputs": [],
   "source": [
    "torch.save(net.state_dict(), f\"model lr{LR} e{EPOCHS} w.o normalization.pt\")"
   ]
  },
  {
   "cell_type": "code",
   "execution_count": null,
   "metadata": {},
   "outputs": [],
   "source": [
    "net.load_state_dict(torch.load(\"model lr0.001 e15.pt\"))\n"
   ]
  },
  {
   "cell_type": "code",
   "execution_count": 24,
   "metadata": {},
   "outputs": [],
   "source": [
    "from torch.autograd import Variable\n",
    "from PIL import Image\n",
    "\n",
    "def predict_image(image_path, model, device):\n",
    "    image = Image.open(image_path)\n",
    "\n",
    "    transform = transforms.Compose(\n",
    "    [transforms.ToTensor(),\n",
    "     transforms.Normalize((0.5, 0.5, 0.5), (0.5, 0.5, 0.5))]\n",
    "    )\n",
    "\n",
    "    image_tensor = transform(image).float()\n",
    "    image_tensor = image_tensor.unsqueeze(0)\n",
    "\n",
    "    if torch.cuda.is_available() and device == \"cuda\":\n",
    "        image_tensor.cuda()\n",
    "        input = Variable(image_tensor.cuda(), requires_grad=True) #torch.Tensor(image_tensor.cuda(), requires_grad=True)\n",
    "    else:\n",
    "        input = Variable(image_tensor.cuda(), requires_grad=True) #torch.Tensor(image_tensor.cuda(), requires_grad=True)\n",
    "    output = model(input)\n",
    "    #label = output.data.cpu().numpy()\n",
    "    label = nn.functional.softmax(output.data.cpu())\n",
    "    label = label.numpy()\n",
    "    \n",
    "    return label[0][0].round(1)\n",
    "    #plt.imshow(image)\n"
   ]
  },
  {
   "cell_type": "code",
   "execution_count": 25,
   "metadata": {},
   "outputs": [
    {
     "name": "stderr",
     "output_type": "stream",
     "text": [
      "C:\\Users\\PC\\AppData\\Local\\Temp\\ipykernel_9616\\1025940170.py:22: UserWarning: Implicit dimension choice for softmax has been deprecated. Change the call to include dim=X as an argument.\n",
      "  label = nn.functional.softmax(output.data.cpu())\n"
     ]
    },
    {
     "data": {
      "text/plain": [
       "1.0"
      ]
     },
     "execution_count": 25,
     "metadata": {},
     "output_type": "execute_result"
    }
   ],
   "source": [
    "predict_image(r\"C:\\Users\\PC\\Desktop\\Проги\\ML\\Задание на стажировку\\test\\test\\zvavwunqimpeqmiahuxd.jpg\", net, device)"
   ]
  },
  {
   "cell_type": "code",
   "execution_count": 26,
   "metadata": {},
   "outputs": [
    {
     "name": "stdout",
     "output_type": "stream",
     "text": [
      "Test images:  774\n"
     ]
    }
   ],
   "source": [
    "path = r\"test\\test\"\n",
    "test_imgs = []\n",
    "for file in os.listdir(path):\n",
    "    test_imgs.append({'filename': file})\n",
    "df_test = pd.DataFrame(test_imgs)\n",
    "print(\"Test images: \", len(df_test))"
   ]
  },
  {
   "cell_type": "code",
   "execution_count": 27,
   "metadata": {},
   "outputs": [
    {
     "name": "stderr",
     "output_type": "stream",
     "text": [
      "C:\\Users\\PC\\AppData\\Local\\Temp\\ipykernel_9616\\1025940170.py:22: UserWarning: Implicit dimension choice for softmax has been deprecated. Change the call to include dim=X as an argument.\n",
      "  label = nn.functional.softmax(output.data.cpu())\n"
     ]
    }
   ],
   "source": [
    "blurness = []\n",
    "for file in os.listdir(path):\n",
    "    blurness.append(predict_image(os.path.join(path, file), net, device))\n"
   ]
  },
  {
   "cell_type": "code",
   "execution_count": null,
   "metadata": {},
   "outputs": [],
   "source": [
    "blurness"
   ]
  },
  {
   "cell_type": "code",
   "execution_count": 28,
   "metadata": {},
   "outputs": [],
   "source": [
    "df_test['blur'] = blurness\n",
    "df_test['filename'] = df_test['filename'].apply(lambda x : os.path.split(x)[1])\n",
    "df_test.to_csv('submission 3.csv', index=False)"
   ]
  }
 ],
 "metadata": {
  "kernelspec": {
   "display_name": "Python 3.10.7 64-bit",
   "language": "python",
   "name": "python3"
  },
  "language_info": {
   "codemirror_mode": {
    "name": "ipython",
    "version": 3
   },
   "file_extension": ".py",
   "mimetype": "text/x-python",
   "name": "python",
   "nbconvert_exporter": "python",
   "pygments_lexer": "ipython3",
   "version": "3.10.7"
  },
  "orig_nbformat": 4,
  "vscode": {
   "interpreter": {
    "hash": "e593ac106456af50ce7af38f9671c411b49d6cd90f9b885e167f0f594e09038c"
   }
  }
 },
 "nbformat": 4,
 "nbformat_minor": 2
}
