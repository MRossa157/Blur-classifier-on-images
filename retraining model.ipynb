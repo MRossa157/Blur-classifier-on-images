{
 "cells": [
  {
   "cell_type": "code",
   "execution_count": 2,
   "metadata": {},
   "outputs": [],
   "source": [
    "import torch\n",
    "import torch.nn as nn\n",
    "import torch.optim as optim\n",
    "import torch.nn.functional as F\n",
    "\n",
    "from torchvision import datasets, transforms\n",
    "from torch.utils.data import DataLoader\n",
    "\n",
    "#Progress bar\n",
    "from tqdm import tqdm\n",
    "\n",
    "#Image pre-processing\n",
    "from PIL import Image\n",
    "\n",
    "#For reading CSV and for math\n",
    "import numpy as np\n",
    "import pandas as pd\n",
    "\n",
    "#Visualize some data\n",
    "import matplotlib.pyplot as plt\n",
    "\n",
    "#Check our work directory\n",
    "import os\n",
    "import shutil\n",
    "\n",
    "import random\n",
    "\n",
    "import warnings\n",
    "warnings.filterwarnings(\"ignore\")"
   ]
  },
  {
   "attachments": {},
   "cell_type": "markdown",
   "metadata": {},
   "source": [
    "# Raw dataset analysis"
   ]
  },
  {
   "cell_type": "code",
   "execution_count": null,
   "metadata": {},
   "outputs": [],
   "source": [
    "blur_path = r'dataset\\blur'\n",
    "sharp_path = r'dataset\\not_blur'"
   ]
  },
  {
   "cell_type": "code",
   "execution_count": null,
   "metadata": {},
   "outputs": [],
   "source": [
    "#Analyzing resolutions of dataset\n",
    "\n",
    "resolutions_blur = []\n",
    "for filename in tqdm(os.listdir(blur_path)):\n",
    "    file_path = os.path.join(blur_path, filename)\n",
    "    im = Image.open(file_path)\n",
    "    width, size = im.size\n",
    "    resolutions_blur.append((width, size))\n",
    "\n",
    "resolutions_sharp = []\n",
    "for filename in tqdm(os.listdir(sharp_path)):\n",
    "    file_path = os.path.join(sharp_path, filename)\n",
    "    im = Image.open(file_path)\n",
    "    width, size = im.size\n",
    "    resolutions_sharp.append((width, size))\n",
    "\n",
    "resolutions_blur.sort()\n",
    "resolutions_sharp.sort()\n",
    "#print(resolutions)"
   ]
  },
  {
   "cell_type": "code",
   "execution_count": null,
   "metadata": {},
   "outputs": [],
   "source": [
    "# Get some plots\n",
    "\n",
    "def get_values(list):\n",
    "    values_0, values_1 = [0] * 4, [0] * 4\n",
    "    for i in list:\n",
    "        if i[0] > 1000:\n",
    "            values_0[3] += 1\n",
    "        elif i[0] > 600:\n",
    "            values_0[2] += 1\n",
    "        elif i[0] > 200:\n",
    "            values_0[1] += 1\n",
    "        else:\n",
    "            values_0[0] += 1\n",
    "        \n",
    "        if i[1] > 1000:\n",
    "            values_1[0] += 1\n",
    "        elif i[1] > 600:\n",
    "            values_1[1] += 1\n",
    "        elif i[1] > 200:\n",
    "            values_1[2] += 1\n",
    "        else:\n",
    "            values_1[3] += 1\n",
    "\n",
    "    return values_0, values_1\n",
    "\n",
    "\n",
    "\n",
    "categories = ['<200', '200-600', '600-1000', '>1000']\n",
    "\n",
    "values_X_sharp, values_Y_sharp = get_values(resolutions_sharp)\n",
    "values_X_blur, values_Y_blur = get_values(resolutions_blur)\n",
    "\n",
    "\n",
    "fig, ((ax1, ax2), (ax3, ax4)) = plt.subplots(2, 2, figsize=(12, 12))\n",
    "\n",
    "ax1.bar(categories, values_X_sharp)\n",
    "ax1.set_title('X-axis resolution (Sharp)')\n",
    "ax1.set_xticklabels(categories)\n",
    "\n",
    "ax2.bar(categories, values_Y_sharp)\n",
    "ax2.set_title('Y-axis resolution (Sharp)')\n",
    "ax2.set_xticklabels(categories)\n",
    "\n",
    "ax3.bar(categories, values_X_blur)\n",
    "ax3.set_title('X-axis resolution (Blur)')\n",
    "ax3.set_xticklabels(categories)\n",
    "\n",
    "ax4.bar(categories, values_Y_blur)\n",
    "ax4.set_title('Y-axis resolution (Blur)')\n",
    "ax4.set_xticklabels(categories)\n",
    "\n",
    "\n",
    "plt.show()"
   ]
  },
  {
   "attachments": {},
   "cell_type": "markdown",
   "metadata": {},
   "source": [
    "# Data prepreprocessing"
   ]
  },
  {
   "cell_type": "code",
   "execution_count": null,
   "metadata": {},
   "outputs": [],
   "source": [
    "def split_files_by_classes(file_list, path):\n",
    "    # Splitting files into classes / Разбиваем файлы по классам\n",
    "    class_dict = {'200-': [], '200-600': [], '600-1000': [], '1000+': []}\n",
    "    for file_name in tqdm(file_list):\n",
    "        file_path = os.path.join(path, file_name)\n",
    "        with Image.open(file_path) as img:\n",
    "            width, height = img.size\n",
    "            if width < 200:\n",
    "                class_dict['200-'].append(file_name)\n",
    "            elif width < 600:\n",
    "                class_dict['200-600'].append(file_name)\n",
    "            elif width < 1000:\n",
    "                class_dict['600-1000'].append(file_name)\n",
    "            else:\n",
    "                class_dict['1000+'].append(file_name)\n",
    "    return class_dict\n",
    "\n",
    "\n",
    "\n",
    "blur_photos = split_files_by_classes(os.listdir(blur_path), blur_path)\n",
    "not_blur_photos = split_files_by_classes(os.listdir(sharp_path), sharp_path)"
   ]
  },
  {
   "cell_type": "code",
   "execution_count": null,
   "metadata": {},
   "outputs": [],
   "source": [
    "# FIXME: Костыль: создаёт папки внутри blur и not_blur. хз как фиксить \n",
    "\n",
    "def create_folders_and_split_files(class_dict, path, label:str, train_val_split = 0.8):\n",
    "    for class_name, file_list in class_dict.items():\n",
    "        class_path = os.path.join(path, class_name)\n",
    "        os.makedirs(os.path.join(class_path, 'train', label), exist_ok=True)\n",
    "        os.makedirs(os.path.join(class_path, 'val', label), exist_ok=True)\n",
    "\n",
    "        random.shuffle(file_list)\n",
    "        split_index = int(len(file_list) * train_val_split)\n",
    "        train_files = file_list[:split_index]\n",
    "        test_files = file_list[split_index:]\n",
    "\n",
    "        for file_name in train_files:\n",
    "            src_path = os.path.join(path, file_name)\n",
    "            dst_path = os.path.join(class_path, 'train', label, file_name)\n",
    "            shutil.copy(src_path, dst_path)\n",
    "        for file_name in test_files:\n",
    "            src_path = os.path.join(path, file_name)\n",
    "            dst_path = os.path.join(class_path, 'val', label, file_name)\n",
    "            shutil.copy(src_path, dst_path)\n",
    "\n",
    "create_folders_and_split_files(blur_photos, blur_path, \"blur\")\n",
    "create_folders_and_split_files(not_blur_photos, sharp_path, \"not_blur\")"
   ]
  },
  {
   "attachments": {},
   "cell_type": "markdown",
   "metadata": {},
   "source": [
    "# Constants"
   ]
  },
  {
   "cell_type": "code",
   "execution_count": 3,
   "metadata": {},
   "outputs": [],
   "source": [
    "LR = 0.001\n",
    "BATCH_SIZE = 8\n",
    "EPOCHS = 15"
   ]
  },
  {
   "attachments": {},
   "cell_type": "markdown",
   "metadata": {},
   "source": [
    "# Create data loader"
   ]
  },
  {
   "cell_type": "code",
   "execution_count": 4,
   "metadata": {},
   "outputs": [],
   "source": [
    "path_to_data = r\"dataset\\1000+\""
   ]
  },
  {
   "cell_type": "code",
   "execution_count": null,
   "metadata": {},
   "outputs": [],
   "source": [
    "resolutions = []\n",
    "for root, _, files in os.walk(path_to_data):\n",
    "    for file in tqdm(files):\n",
    "        file_path = os.path.join(root, file)\n",
    "        with Image.open(file_path) as img:\n",
    "            width, height = img.size\n",
    "            resolutions.append((width, height))\n",
    "\n",
    "sorted_list = sorted(resolutions, key=lambda x: (x[0], x[1]))\n",
    "\n",
    "sorted_list_x = [x[0] for x in sorted_list]\n",
    "sorted_list_y = [x[1] for x in sorted_list]\n",
    "\n",
    "print(\"Минимальный ширина картинки:\", sorted_list_x[0])\n",
    "print(\"Минимальный высота картинки:\", sorted_list_y[0])\n",
    "\n",
    "print(\"Средняя ширина картинки: \", np.mean(sorted_list_x))\n",
    "print(\"Средняя высота картинки: \", np.mean(sorted_list_y))\n"
   ]
  },
  {
   "cell_type": "code",
   "execution_count": 5,
   "metadata": {},
   "outputs": [],
   "source": [
    "\n",
    "transform = transforms.Compose(\n",
    "    [transforms.RandomHorizontalFlip(p=0.41),\n",
    "     transforms.RandomVerticalFlip(p=0.79),\n",
    "     transforms.Resize((640, 640)),\n",
    "     transforms.ToTensor(),\n",
    "     transforms.Normalize((0.5, 0.5, 0.5), (0.5, 0.5, 0.5))]\n",
    ")"
   ]
  },
  {
   "cell_type": "code",
   "execution_count": 6,
   "metadata": {},
   "outputs": [],
   "source": [
    "train_folder = datasets.ImageFolder(root=os.path.join(path_to_data, \"train\"), transform=transform)\n",
    "val_folder = datasets.ImageFolder(root=os.path.join(path_to_data, \"val\"),transform=transform)"
   ]
  },
  {
   "cell_type": "code",
   "execution_count": 7,
   "metadata": {},
   "outputs": [
    {
     "data": {
      "text/plain": [
       "['blur', 'not_blur']"
      ]
     },
     "execution_count": 7,
     "metadata": {},
     "output_type": "execute_result"
    }
   ],
   "source": [
    "train_folder.classes"
   ]
  },
  {
   "cell_type": "code",
   "execution_count": 8,
   "metadata": {},
   "outputs": [],
   "source": [
    "train_loader = DataLoader(train_folder,\n",
    "                          batch_size=BATCH_SIZE,\n",
    "                          shuffle=True)\n",
    "val_loader = DataLoader(val_folder,\n",
    "                          batch_size=BATCH_SIZE,\n",
    "                          shuffle=True)"
   ]
  },
  {
   "attachments": {},
   "cell_type": "markdown",
   "metadata": {},
   "source": [
    "# Model section"
   ]
  },
  {
   "cell_type": "code",
   "execution_count": 9,
   "metadata": {},
   "outputs": [],
   "source": [
    "class Net(nn.Module):\n",
    "    def __init__(self):\n",
    "        super(Net,self).__init__()\n",
    "        # input [3, 640, 640]\n",
    "        self.cnn = nn.Sequential(\n",
    "            nn.Conv2d(in_channels = 3, out_channels = 64, kernel_size = 3, stride = 1, padding = 1),  # [64, 640, 640]\n",
    "            nn.BatchNorm2d(64),\n",
    "            nn.ReLU(),\n",
    "            nn.MaxPool2d(kernel_size = 2, stride = 2, padding = 0),      # [64, 320, 320]\n",
    "\n",
    "            nn.Conv2d(in_channels = 64, out_channels = 128, kernel_size = 3, stride = 1, padding = 1), # [128, 320, 320]\n",
    "            nn.BatchNorm2d(128),\n",
    "            nn.ReLU(),\n",
    "            nn.MaxPool2d(kernel_size = 2, stride = 2, padding = 0),      # [128, 160, 160]\n",
    "\n",
    "            nn.Conv2d(in_channels = 128, out_channels = 256, kernel_size = 3, stride = 1, padding = 1), # [256, 160, 160]\n",
    "            nn.BatchNorm2d(256),\n",
    "            nn.ReLU(),\n",
    "            nn.MaxPool2d(kernel_size = 2, stride = 2, padding = 0),      # [256, 80, 80]\n",
    "\n",
    "            nn.Conv2d(in_channels = 256, out_channels = 512, kernel_size = 3, stride = 1, padding = 1), # [512, 80, 80]\n",
    "            nn.BatchNorm2d(512),\n",
    "            nn.ReLU(),\n",
    "            nn.MaxPool2d(kernel_size = 2, stride = 2, padding = 0),       # [512, 40, 40]\n",
    "            \n",
    "            nn.Conv2d(in_channels = 512, out_channels = 512, kernel_size = 3, stride = 1, padding = 1), # [512, 40, 40]\n",
    "            nn.BatchNorm2d(512),\n",
    "            nn.ReLU(),\n",
    "            nn.MaxPool2d(kernel_size = 2, stride = 2, padding = 0),       # [512, 20, 20]\n",
    "        )\n",
    "        self.fc = nn.Sequential(\n",
    "            nn.Linear(in_features = 512*20*20, out_features = 1024),\n",
    "            nn.ReLU(),\n",
    "            nn.Linear(in_features = 1024, out_features = 512),\n",
    "            nn.ReLU(),\n",
    "            nn.Linear(in_features = 512, out_features = 128), \n",
    "            nn.ReLU(), \n",
    "            nn.Linear(in_features = 128, out_features = 2)\n",
    "        )\n",
    "\n",
    "    def forward(self, x):\n",
    "        out = self.cnn(x)\n",
    "        out = out.view(out.size()[0], -1)\n",
    "        return self.fc(out)\n",
    "net = Net()"
   ]
  },
  {
   "cell_type": "code",
   "execution_count": 10,
   "metadata": {},
   "outputs": [
    {
     "name": "stdout",
     "output_type": "stream",
     "text": [
      "Using:  cuda\n"
     ]
    },
    {
     "data": {
      "text/plain": [
       "Net(\n",
       "  (cnn): Sequential(\n",
       "    (0): Conv2d(3, 64, kernel_size=(3, 3), stride=(1, 1), padding=(1, 1))\n",
       "    (1): BatchNorm2d(64, eps=1e-05, momentum=0.1, affine=True, track_running_stats=True)\n",
       "    (2): ReLU()\n",
       "    (3): MaxPool2d(kernel_size=2, stride=2, padding=0, dilation=1, ceil_mode=False)\n",
       "    (4): Conv2d(64, 128, kernel_size=(3, 3), stride=(1, 1), padding=(1, 1))\n",
       "    (5): BatchNorm2d(128, eps=1e-05, momentum=0.1, affine=True, track_running_stats=True)\n",
       "    (6): ReLU()\n",
       "    (7): MaxPool2d(kernel_size=2, stride=2, padding=0, dilation=1, ceil_mode=False)\n",
       "    (8): Conv2d(128, 256, kernel_size=(3, 3), stride=(1, 1), padding=(1, 1))\n",
       "    (9): BatchNorm2d(256, eps=1e-05, momentum=0.1, affine=True, track_running_stats=True)\n",
       "    (10): ReLU()\n",
       "    (11): MaxPool2d(kernel_size=2, stride=2, padding=0, dilation=1, ceil_mode=False)\n",
       "    (12): Conv2d(256, 512, kernel_size=(3, 3), stride=(1, 1), padding=(1, 1))\n",
       "    (13): BatchNorm2d(512, eps=1e-05, momentum=0.1, affine=True, track_running_stats=True)\n",
       "    (14): ReLU()\n",
       "    (15): MaxPool2d(kernel_size=2, stride=2, padding=0, dilation=1, ceil_mode=False)\n",
       "    (16): Conv2d(512, 512, kernel_size=(3, 3), stride=(1, 1), padding=(1, 1))\n",
       "    (17): BatchNorm2d(512, eps=1e-05, momentum=0.1, affine=True, track_running_stats=True)\n",
       "    (18): ReLU()\n",
       "    (19): MaxPool2d(kernel_size=2, stride=2, padding=0, dilation=1, ceil_mode=False)\n",
       "  )\n",
       "  (fc): Sequential(\n",
       "    (0): Linear(in_features=204800, out_features=1024, bias=True)\n",
       "    (1): ReLU()\n",
       "    (2): Linear(in_features=1024, out_features=512, bias=True)\n",
       "    (3): ReLU()\n",
       "    (4): Linear(in_features=512, out_features=128, bias=True)\n",
       "    (5): ReLU()\n",
       "    (6): Linear(in_features=128, out_features=2, bias=True)\n",
       "  )\n",
       ")"
      ]
     },
     "execution_count": 10,
     "metadata": {},
     "output_type": "execute_result"
    }
   ],
   "source": [
    "device = torch.device('cuda' if torch.cuda.is_available() else \"cpu\")\n",
    "print('Using: ',device)\n",
    "net.to(device)"
   ]
  },
  {
   "cell_type": "code",
   "execution_count": 11,
   "metadata": {},
   "outputs": [
    {
     "name": "stdout",
     "output_type": "stream",
     "text": [
      "Загрузили на cuda\n"
     ]
    }
   ],
   "source": [
    "# Загружаем модель которую будем предобучать\n",
    "\n",
    "model_path = r\"2 model - 600-100 - 1000+.pt\"\n",
    "\n",
    "try:\n",
    "    if device.type == \"cpu\":\n",
    "        print('Загрузили на cpu')\n",
    "        net.load_state_dict(torch.load(model_path, map_location=torch.device('cpu')))\n",
    "    else:\n",
    "        print('Загрузили на cuda')\n",
    "        net.load_state_dict(torch.load(model_path))\n",
    "except FileNotFoundError:\n",
    "    print(\"Saved model file not found.\")\n",
    "except:\n",
    "    print(\"Error loading saved model.\")"
   ]
  },
  {
   "cell_type": "code",
   "execution_count": 12,
   "metadata": {},
   "outputs": [],
   "source": [
    "# Заморажеваем все веса кроме слоя FC\n",
    "for param in net.parameters():\n",
    "    param.requires_grad = False\n",
    "\n",
    "for param in net.fc.parameters():\n",
    "    param.requires_grad = True"
   ]
  },
  {
   "cell_type": "code",
   "execution_count": 13,
   "metadata": {},
   "outputs": [],
   "source": [
    "# Проверяем будет ли работать сеть на случайном изображении 64х64\n",
    "# Создаем случайное изображение размером 64x64\n",
    "input_tensor = torch.randn((1, 3, 640, 640)).to(device)\n",
    "\n",
    "# Прогоняем изображение через модель\n",
    "output_tensor = net(input_tensor) # explicitly move the input tensor to the same device as the model\n",
    "#Если ошибок нет, то все хорошо"
   ]
  },
  {
   "attachments": {},
   "cell_type": "markdown",
   "metadata": {},
   "source": [
    "# Training and evaluating section"
   ]
  },
  {
   "cell_type": "code",
   "execution_count": 14,
   "metadata": {},
   "outputs": [],
   "source": [
    "# Cross Entropy Loss  \n",
    "error = nn.CrossEntropyLoss()\n",
    "\n",
    "\n",
    "#Adam optimizer\n",
    "optimizer = optim.Adam(net.parameters(), lr = LR)"
   ]
  },
  {
   "cell_type": "code",
   "execution_count": 15,
   "metadata": {},
   "outputs": [
    {
     "name": "stderr",
     "output_type": "stream",
     "text": [
      "Epoch 1 / 15: 100%|██████████| 788/788 [06:41<00:00,  1.96it/s, AUC_ROC=0.893, loss=0.306]\n",
      "Validation 1: 100%|██████████| 197/197 [01:19<00:00,  2.48it/s, AUC_ROC=0.889, loss=0.247]\n",
      "Epoch 2 / 15: 100%|██████████| 788/788 [06:31<00:00,  2.01it/s, AUC_ROC=0.893, loss=0.311]\n",
      "Validation 2: 100%|██████████| 197/197 [01:19<00:00,  2.47it/s, AUC_ROC=0.9, loss=0.27]   \n",
      "Epoch 3 / 15: 100%|██████████| 788/788 [07:01<00:00,  1.87it/s, AUC_ROC=0.895, loss=0.277]\n",
      "Validation 3: 100%|██████████| 197/197 [01:26<00:00,  2.29it/s, AUC_ROC=0.891, loss=0.262]\n",
      "Epoch 4 / 15: 100%|██████████| 788/788 [07:26<00:00,  1.77it/s, AUC_ROC=0.899, loss=0.284]\n",
      "Validation 4: 100%|██████████| 197/197 [01:26<00:00,  2.28it/s, AUC_ROC=0.859, loss=0.264]\n",
      "Epoch 5 / 15: 100%|██████████| 788/788 [07:04<00:00,  1.86it/s, AUC_ROC=0.902, loss=0.258]\n",
      "Validation 5: 100%|██████████| 197/197 [01:18<00:00,  2.50it/s, AUC_ROC=0.899, loss=0.258]\n",
      "Epoch 6 / 15: 100%|██████████| 788/788 [06:57<00:00,  1.89it/s, AUC_ROC=0.91, loss=0.245] \n",
      "Validation 6: 100%|██████████| 197/197 [01:22<00:00,  2.40it/s, AUC_ROC=0.894, loss=0.255]\n",
      "Epoch 7 / 15: 100%|██████████| 788/788 [06:43<00:00,  1.95it/s, AUC_ROC=0.912, loss=0.24] \n",
      "Validation 7: 100%|██████████| 197/197 [01:20<00:00,  2.46it/s, AUC_ROC=0.9, loss=0.258]  \n",
      "Epoch 8 / 15: 100%|██████████| 788/788 [06:42<00:00,  1.96it/s, AUC_ROC=0.917, loss=0.232]\n",
      "Validation 8: 100%|██████████| 197/197 [01:20<00:00,  2.44it/s, AUC_ROC=0.885, loss=0.275]\n",
      "Epoch 9 / 15: 100%|██████████| 788/788 [06:47<00:00,  1.93it/s, AUC_ROC=0.918, loss=0.225]\n",
      "Validation 9: 100%|██████████| 197/197 [01:19<00:00,  2.48it/s, AUC_ROC=0.903, loss=0.247]\n",
      "Epoch 10 / 15: 100%|██████████| 788/788 [06:46<00:00,  1.94it/s, AUC_ROC=0.922, loss=0.219]\n",
      "Validation 10: 100%|██████████| 197/197 [01:18<00:00,  2.50it/s, AUC_ROC=0.901, loss=0.269]\n",
      "Epoch 11 / 15: 100%|██████████| 788/788 [06:45<00:00,  1.95it/s, AUC_ROC=0.927, loss=0.2]  \n",
      "Validation 11: 100%|██████████| 197/197 [01:21<00:00,  2.41it/s, AUC_ROC=0.884, loss=0.269]\n",
      "Epoch 12 / 15: 100%|██████████| 788/788 [06:53<00:00,  1.91it/s, AUC_ROC=0.928, loss=0.206]\n",
      "Validation 12: 100%|██████████| 197/197 [01:21<00:00,  2.41it/s, AUC_ROC=0.895, loss=0.264]\n",
      "Epoch 13 / 15: 100%|██████████| 788/788 [06:47<00:00,  1.93it/s, AUC_ROC=0.934, loss=0.196]\n",
      "Validation 13: 100%|██████████| 197/197 [01:24<00:00,  2.33it/s, AUC_ROC=0.895, loss=0.274]\n",
      "Epoch 14 / 15: 100%|██████████| 788/788 [06:45<00:00,  1.95it/s, AUC_ROC=0.933, loss=0.186]\n",
      "Validation 14: 100%|██████████| 197/197 [01:19<00:00,  2.49it/s, AUC_ROC=0.876, loss=0.322]\n",
      "Epoch 15 / 15: 100%|██████████| 788/788 [06:11<00:00,  2.12it/s, AUC_ROC=0.934, loss=0.181]\n",
      "Validation 15: 100%|██████████| 197/197 [01:11<00:00,  2.76it/s, AUC_ROC=0.898, loss=0.293]"
     ]
    },
    {
     "name": "stdout",
     "output_type": "stream",
     "text": [
      "Best model weights have 0.903 AUC_ROC val and are saved under the name rt_best_model_weights.pt\n"
     ]
    },
    {
     "name": "stderr",
     "output_type": "stream",
     "text": [
      "\n"
     ]
    }
   ],
   "source": [
    "from sklearn.metrics import roc_auc_score\n",
    "\n",
    "# For plotting\n",
    "train_losses_by_epochs = []\n",
    "train_metric_by_epochs = []\n",
    "val_losses_by_epochs = []\n",
    "val_metric_by_epochs = []\n",
    "\n",
    "# For saving the best model weights\n",
    "best_metric = 0.0 \n",
    "best_model_path = 'rt_best_model_weights.pt'\n",
    "\n",
    "# Training loop\n",
    "for epoch in range(EPOCHS):\n",
    "    # Initialize metrics and losses for the epoch\n",
    "    train_metric = []\n",
    "    val_metric = []\n",
    "    train_loss = []\n",
    "    val_loss = []\n",
    "    \n",
    "    # Train the model on the training set\n",
    "    loop = tqdm(train_loader, leave=True)\n",
    "    net.train()\n",
    "    for batch in loop:\n",
    "        loop.set_description(f\"Epoch {epoch+1} / {EPOCHS}\")\n",
    "\n",
    "        optimizer.zero_grad()\n",
    "        inputs, labels = batch[0].to(device), batch[1].to(device)\n",
    "        y_pred = net(inputs)\n",
    "\n",
    "        loss = error(y_pred,labels.long())\n",
    "        loss.backward()\n",
    "        \n",
    "        optimizer.step()\n",
    "\n",
    "        y_true = labels.cpu().numpy()\n",
    "        y_pred = np.argmax(y_pred.cpu().data.numpy(), axis=1)\n",
    "        try:\n",
    "            auc = roc_auc_score(y_true, y_pred)\n",
    "            train_metric.append(auc)\n",
    "        except ValueError:\n",
    "            pass\n",
    "\n",
    "        train_loss.append(loss.item())\n",
    "        loop.set_postfix(loss=np.mean(train_loss), AUC_ROC=np.mean(train_metric))\n",
    "    \n",
    "    # Save training metrics for the epoch\n",
    "    train_losses_by_epochs.append(np.mean(train_loss))\n",
    "    train_metric_by_epochs.append(np.mean(train_metric))\n",
    "\n",
    "    # Evaluate the model on the validation set\n",
    "    net.eval()\n",
    "    with torch.no_grad():\n",
    "        loop = tqdm(val_loader, leave=True)\n",
    "        for batch in loop:\n",
    "            loop.set_description(f\"Validation {epoch+1}\")\n",
    "\n",
    "            inputs, labels = batch[0].to(device), batch[1].to(device)\n",
    "            val_pred = net(inputs)\n",
    "\n",
    "            batch_loss = error(val_pred,labels.long())\n",
    "\n",
    "            val_true = labels.cpu().numpy()\n",
    "            val_pred = np.argmax(val_pred.cpu().data.numpy(), axis=1)\n",
    "            try:\n",
    "                auc = roc_auc_score(val_true, val_pred)\n",
    "                val_metric.append(auc)\n",
    "            except ValueError:\n",
    "                pass\n",
    "\n",
    "            val_loss.append(batch_loss.item())\n",
    "            loop.set_postfix(loss=np.mean(val_loss), AUC_ROC=np.mean(val_metric))\n",
    "\n",
    "        # Save validation metrics for the epoch\n",
    "        val_losses_by_epochs.append(np.mean(val_loss))\n",
    "        val_metric_by_epochs.append(np.mean(val_metric))\n",
    "\n",
    "    # Save the model weights if the validation AUC_ROC is improved\n",
    "    if np.mean(val_metric) > best_metric:\n",
    "        best_metric = np.mean(val_metric)\n",
    "        torch.save(net.state_dict(), best_model_path)\n",
    "\n",
    "print(f\"Best model weights have {best_metric:.3f} AUC_ROC val and are saved under the name {best_model_path}\")\n"
   ]
  },
  {
   "cell_type": "code",
   "execution_count": 16,
   "metadata": {},
   "outputs": [
    {
     "data": {
      "image/png": "[encoded data removed]",
      "text/plain": [
       "<Figure size 1200x500 with 4 Axes>"
      ]
     },
     "metadata": {},
     "output_type": "display_data"
    }
   ],
   "source": [
    "fig, ((ax1, ax2), (ax3, ax4)) = plt.subplots(2, 2, figsize=(12, 5))\n",
    "\n",
    "ax1.plot(range(1, len(train_metric_by_epochs) + 1), train_metric_by_epochs, color='blue', label='Train metrics')\n",
    "ax1.legend()\n",
    "ax2.plot(range(1, len(train_losses_by_epochs) + 1), train_losses_by_epochs, color='blue', label='Train losses')\n",
    "ax2.legend()\n",
    "ax3.plot(range(1, len(val_metric_by_epochs) + 1), val_metric_by_epochs, color='red', label='Validation metrics')\n",
    "ax3.legend()\n",
    "ax4.plot(range(1, len(val_losses_by_epochs) + 1), val_losses_by_epochs, color='red', label='Validation losses')\n",
    "ax4.legend()\n",
    "\n",
    "plt.xlabel('Epoch')\n",
    "\n",
    "plt.show()"
   ]
  },
  {
   "cell_type": "code",
   "execution_count": null,
   "metadata": {},
   "outputs": [],
   "source": [
    "net.load_state_dict(torch.load(\"rt_best_model_weights.pt\"))"
   ]
  },
  {
   "cell_type": "code",
   "execution_count": null,
   "metadata": {},
   "outputs": [],
   "source": [
    "from torch.autograd import Variable\n",
    "from PIL import Image\n",
    "\n",
    "def predict_image(image_path, model, device):\n",
    "    image = Image.open(image_path)\n",
    "\n",
    "    transform = transforms.Compose(\n",
    "    [transforms.Resize((640, 640)),\n",
    "     transforms.ToTensor(),\n",
    "     transforms.Normalize((0.5, 0.5, 0.5), (0.5, 0.5, 0.5))]\n",
    "    )\n",
    "\n",
    "    image_tensor = transform(image).float()\n",
    "    image_tensor = image_tensor.unsqueeze(0)\n",
    "\n",
    "    if torch.cuda.is_available() and device == \"cuda\":\n",
    "        image_tensor.cuda()\n",
    "        input = Variable(image_tensor.cuda(), requires_grad=True) #torch.Tensor(image_tensor.cuda(), requires_grad=True)\n",
    "    else:\n",
    "        input = Variable(image_tensor.cuda(), requires_grad=True) #torch.Tensor(image_tensor.cuda(), requires_grad=True)\n",
    "    output = model(input)\n",
    "    #label = output.data.cpu().numpy()\n",
    "    label = nn.functional.softmax(output.data.cpu())\n",
    "    label = label.numpy()\n",
    "    \n",
    "    return label[0][0].round(2)\n",
    "    #plt.imshow(image)\n"
   ]
  },
  {
   "cell_type": "code",
   "execution_count": null,
   "metadata": {},
   "outputs": [],
   "source": [
    "predict_image(r\"D:\\Рабочий стол\\Проги\\ML\\Blur detection\\dataset\\200-\\val\\not_blur\\02998(1).jpg\", net, device)"
   ]
  }
 ],
 "metadata": {
  "kernelspec": {
   "display_name": "Python 3",
   "language": "python",
   "name": "python3"
  },
  "language_info": {
   "codemirror_mode": {
    "name": "ipython",
    "version": 3
   },
   "file_extension": ".py",
   "mimetype": "text/x-python",
   "name": "python",
   "nbconvert_exporter": "python",
   "pygments_lexer": "ipython3",
   "version": "3.9.0"
  },
  "orig_nbformat": 4,
  "vscode": {
   "interpreter": {
    "hash": "0dcd1d2511816899a74ba735f0586ad2a5252297c95097d38969d839b5b7443a"
   }
  }
 },
 "nbformat": 4,
 "nbformat_minor": 2
}
